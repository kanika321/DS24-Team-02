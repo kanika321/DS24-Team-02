{
 "cells": [
  {
   "cell_type": "code",
   "execution_count": 3,
   "metadata": {},
   "outputs": [
    {
     "name": "stdout",
     "output_type": "stream",
     "text": [
      "Dash app running on http://127.0.0.1:8050/\n"
     ]
    },
    {
     "data": {
      "application/javascript": [
       "window.open('http://127.0.0.1:8050/')"
      ],
      "text/plain": [
       "<IPython.core.display.Javascript object>"
      ]
     },
     "metadata": {},
     "output_type": "display_data"
    }
   ],
   "source": [
    "import dash\n",
    "import dash_core_components as dcc\n",
    "import dash_html_components as html\n",
    "from dash.dependencies import Input, Output\n",
    "import plotly.graph_objs as go\n",
    "import pandas as pd\n",
    "import numpy as np\n",
    "\n",
    "# Load the data\n",
    "df = pd.read_parquet(r\"C:\\Users\\Vaishnavi Mall\\Desktop\\Sampling.parquet\", engine='pyarrow')\n",
    "\n",
    "# Initialize the Dash app\n",
    "app = dash.Dash(__name__)\n",
    "\n",
    "# Define the layout of the app\n",
    "app.layout = html.Div([\n",
    "    html.H1(\"Grinding Process Monitoring Dashboard\"),\n",
    "    dcc.Graph(id='live-update-graph'),\n",
    "    dcc.Interval(\n",
    "        id='interval-component',\n",
    "        interval=1*1000,  # in milliseconds\n",
    "        n_intervals=0\n",
    "    )\n",
    "])\n",
    "\n",
    "# Define the callback to update the graph\n",
    "@app.callback(Output('live-update-graph', 'figure'),\n",
    "              Input('interval-component', 'n_intervals'))\n",
    "def update_graph_live(n):\n",
    "    # Generate random sample of data for live update simulation\n",
    "    random_sample = df.sample(n=1000)\n",
    "    \n",
    "    fig = go.Figure()\n",
    "\n",
    "    fig.add_trace(go.Scatter(x=np.arange(len(random_sample)), y=random_sample['Irms_Grinding_rate100000_clipping0_batch0'],\n",
    "                             mode='lines', name='Irms Grinding'))\n",
    "\n",
    "    fig.add_trace(go.Scatter(x=np.arange(len(random_sample)), y=random_sample['Grinding spindle current L1_rate100000_clipping0_batch0'],\n",
    "                             mode='lines', name='Spindle Current L1'))\n",
    "\n",
    "    fig.add_trace(go.Scatter(x=np.arange(len(random_sample)), y=random_sample['Grinding spindle current L2_rate100000_clipping0_batch0'],\n",
    "                             mode='lines', name='Spindle Current L2'))\n",
    "\n",
    "    fig.add_trace(go.Scatter(x=np.arange(len(random_sample)), y=random_sample['Grinding spindle current L3_rate100000_clipping0_batch0'],\n",
    "                             mode='lines', name='Spindle Current L3'))\n",
    "\n",
    "    fig.update_layout(title='Live Sensor Data',\n",
    "                      xaxis_title='Time',\n",
    "                      yaxis_title='Sensor Readings')\n",
    "\n",
    "    return fig\n",
    "\n",
    "# Run the app\n",
    "if __name__ == '__main__':\n",
    "    app.run(jupyter_mode=\"tab\")\n"
   ]
  },
  {
   "cell_type": "code",
   "execution_count": null,
   "metadata": {},
   "outputs": [],
   "source": []
  }
 ],
 "metadata": {
  "kernelspec": {
   "display_name": "Python 3",
   "language": "python",
   "name": "python3"
  },
  "language_info": {
   "codemirror_mode": {
    "name": "ipython",
    "version": 3
   },
   "file_extension": ".py",
   "mimetype": "text/x-python",
   "name": "python",
   "nbconvert_exporter": "python",
   "pygments_lexer": "ipython3",
   "version": "3.8.5"
  }
 },
 "nbformat": 4,
 "nbformat_minor": 4
}
